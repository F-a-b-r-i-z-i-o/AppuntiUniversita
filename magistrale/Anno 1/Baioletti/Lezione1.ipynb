{
 "cells": [
  {
   "cell_type": "markdown",
   "id": "fd561aa1-1dae-4e94-9e46-ba304ea4ca02",
   "metadata": {
    "tags": []
   },
   "source": [
    "# Il problema del Number Partitioning\n",
    "\n",
    "TODO: sarebbe carino aggiungere una breve spiegazione del problema."
   ]
  },
  {
   "cell_type": "markdown",
   "id": "848e658f-0757-4c9f-9ca7-c5d7545a51fa",
   "metadata": {},
   "source": [
    "1. Definisco la classe che rappresenta il problema"
   ]
  },
  {
   "cell_type": "code",
   "execution_count": 1,
   "id": "71a9587e-e0fb-4ce1-a0d5-a5baa09dd877",
   "metadata": {},
   "outputs": [],
   "source": [
    "import numpy as np\n",
    "\n",
    "np.random.seed(22)   # set random seed\n",
    "\n",
    "class Problem:\n",
    "    def __init__(self, num):\n",
    "        self.dim = num\n",
    "        self.numbers = np.random.randint(1, 100000, num)\n",
    "\n",
    "    def objective_function(self, sol):\n",
    "        s = 0\n",
    "        for i in range(self.dim):\n",
    "            if sol[i] == 0:\n",
    "                s += self.numbers[i]\n",
    "            else:\n",
    "                s -= self.numbers[i]\n",
    "                \n",
    "        return np.abs(s)\n",
    "    \n",
    "    def get_dim(self):\n",
    "        return self.dim"
   ]
  },
  {
   "cell_type": "code",
   "execution_count": 2,
   "id": "56a6cd6c-e543-4d0a-aca4-e571ba8fdd05",
   "metadata": {},
   "outputs": [
    {
     "name": "stdout",
     "output_type": "stream",
     "text": [
      "[0 1 1 1 1 0 0 1 0 1 0 0 0 0 1 1 0 0 0 0 1 0 0 0 0 1 1 0 0 1 0 1 0 1 1 0 1\n",
      " 0 0 1 0 0 1 1 1 1 0 0 1 0 0 0 0 1 1 1 1 1 1 1 0 0 1 0 0 0 0 1 0 0 0 1 1 1\n",
      " 0 1 1 0 1 0 0 1 1 0 1 1 0 0 0 1 1 0 1 0 1 0 0 1 1 1]\n"
     ]
    }
   ],
   "source": [
    "problem = Problem(100)\n",
    "initial_sol = np.array(np.random.randint(0, 1+1, problem.get_dim()))\n",
    "\n",
    "print(initial_sol)"
   ]
  },
  {
   "cell_type": "code",
   "execution_count": 3,
   "id": "8261426f-99e5-4143-a0ad-e7f980dce766",
   "metadata": {},
   "outputs": [],
   "source": [
    "def local_search(prob, init_sol=None, verbose=False):\n",
    "    n  = prob.get_dim()\n",
    "    \n",
    "    x  = np.random.randint(0, 1+1, n) if init_sol is None else init_sol.copy()\n",
    "    fx = prob.objective_function(x)\n",
    "    \n",
    "    \n",
    "    if verbose: print(f\"initial value {fx}\")\n",
    "    \n",
    "    improved = True\n",
    "    while improved:\n",
    "        best_f = 1e300\n",
    "        \n",
    "        for i in range(n):\n",
    "            x[i] = 1 - x[i]\n",
    "            fy = prob.objective_function(x)\n",
    "            \n",
    "            if fy < best_f:\n",
    "                y = x.copy()\n",
    "                best_f = fy\n",
    "\n",
    "            x[i] = 1 - x[i]\n",
    "            \n",
    "        if best_f < fx:\n",
    "            fx = best_f\n",
    "            x  = y\n",
    "            improved = True\n",
    "            if verbose: print(f\"new value {fx}\")\n",
    "\n",
    "        else:\n",
    "            improved = False\n",
    "            \n",
    "    return x,fx\n",
    "\n",
    "\n"
   ]
  },
  {
   "cell_type": "code",
   "execution_count": 4,
   "id": "2f9256ec-9661-46b6-bc01-3bfcc4b75ffa",
   "metadata": {},
   "outputs": [
    {
     "name": "stdout",
     "output_type": "stream",
     "text": [
      "initial value 297224\n",
      "new value 99972\n",
      "new value 1924\n",
      "new value 114\n",
      "[0 1 1 1 1 0 0 1 0 1 0 1 0 1 1 1 0 0 0 0 1 0 0 0 0 1 1 0 0 1 0 1 0 1 1 0 1\n",
      " 0 0 1 0 0 1 1 1 1 1 0 1 0 0 0 0 1 1 1 1 1 1 1 0 0 1 0 0 0 0 1 0 0 0 1 1 1\n",
      " 0 1 1 0 1 0 0 1 1 0 1 1 0 0 0 1 1 0 1 0 1 0 0 1 1 1] 114\n"
     ]
    }
   ],
   "source": [
    "x, fx = local_search(problem, initial_sol, verbose=True)\n",
    "\n",
    "print(x, fx)"
   ]
  },
  {
   "cell_type": "code",
   "execution_count": 5,
   "id": "5de2aa72-a1df-4d5d-b249-aa84bfa69115",
   "metadata": {},
   "outputs": [],
   "source": [
    "def local_search_first_impr(prob, init_sol=None, verbose=False):\n",
    "    n = prob.get_dim()\n",
    "    \n",
    "    x  = np.random.randint(0, 1+1, n) if init_sol is None else init_sol.copy()\n",
    "    fx = prob.objective_function(x)\n",
    "    \n",
    "    if verbose: print(f\"initial value {fx}\")\n",
    "\n",
    "    improved=True\n",
    "    while improved:\n",
    "        best_f = fx\n",
    "        ordering = list(range(n))\n",
    "        np.random.shuffle(ordering)\n",
    "        for i in ordering:\n",
    "            x[i] = 1 - x[i]\n",
    "            fy = prob.objective_function(x)\n",
    "            \n",
    "            if fy < best_f:\n",
    "                y = x.copy()\n",
    "                best_f = fy\n",
    "                x[i] = 1 - x[i]\n",
    "                break\n",
    "                \n",
    "            x[i] = 1 - x[i]\n",
    "            \n",
    "        if best_f < fx:\n",
    "            fx = best_f\n",
    "            x = y\n",
    "            improved=True\n",
    "            if verbose: print(f\"new value {fx}\")\n",
    "        else:\n",
    "            improved=False\n",
    "    \n",
    "    return x,fx"
   ]
  },
  {
   "cell_type": "code",
   "execution_count": 6,
   "id": "9fa31199-6553-49e9-b4ab-db70d315a905",
   "metadata": {},
   "outputs": [
    {
     "name": "stdout",
     "output_type": "stream",
     "text": [
      "initial value 297224\n",
      "new value 248156\n",
      "new value 218538\n",
      "new value 31542\n",
      "new value 24646\n",
      "new value 1172\n",
      "new value 866\n",
      "new value 70\n",
      "[0 1 1 1 1 0 0 1 0 1 1 1 0 0 1 1 0 0 0 0 1 0 0 0 0 1 1 0 0 1 0 1 0 0 1 0 1\n",
      " 0 0 1 0 0 1 1 1 1 0 0 0 0 0 0 0 1 1 1 1 1 1 1 0 0 1 0 0 0 0 1 0 1 0 1 1 1\n",
      " 0 1 1 0 1 1 0 1 1 0 1 1 0 0 0 1 1 0 1 1 1 0 0 1 1 1] 70\n"
     ]
    }
   ],
   "source": [
    "x_impr, fx_impr = local_search_first_impr(problem, initial_sol, verbose=True)\n",
    "\n",
    "print(x_impr, fx_impr)"
   ]
  },
  {
   "cell_type": "code",
   "execution_count": 7,
   "id": "92f58636-2277-45f2-acbb-dd49a2bccb03",
   "metadata": {},
   "outputs": [
    {
     "name": "stdout",
     "output_type": "stream",
     "text": [
      "Local Search vs First Impr\n",
      "[ True  True  True  True  True  True  True  True  True  True False  True\n",
      "  True False  True  True  True  True  True  True  True  True  True  True\n",
      "  True  True  True  True  True  True  True  True  True False  True  True\n",
      "  True  True  True  True  True  True  True  True  True  True False  True\n",
      " False  True  True  True  True  True  True  True  True  True  True  True\n",
      "  True  True  True  True  True  True  True  True  True False  True  True\n",
      "  True  True  True  True  True  True  True False  True  True  True  True\n",
      "  True  True  True  True  True  True  True  True  True False  True  True\n",
      "  True  True  True  True]\n",
      "ls_fx: 114 fi_fx: 70\n"
     ]
    }
   ],
   "source": [
    "print(\"Local Search vs First Impr\")\n",
    "# print(\"x == x_impr\") if (x == x_impr).all() else print(\"x != x_impr\")\n",
    "print(x == x_impr)\n",
    "print(f\"ls_fx: {fx}\", f\"fi_fx: {fx_impr}\")"
   ]
  },
  {
   "cell_type": "markdown",
   "id": "01fbc81a-534c-40f6-b917-7f17c9fcd9af",
   "metadata": {},
   "source": [
    "## Iterated Local Search"
   ]
  },
  {
   "cell_type": "code",
   "execution_count": 8,
   "id": "94c4cc30-a7c6-4d85-89a2-2bec4cb630b7",
   "metadata": {},
   "outputs": [],
   "source": [
    "def iterated_local_search(prob, num_tries, num_flips, init_sol=None):\n",
    "    def perturbation(x, num_flips):\n",
    "        n = len(x)\n",
    "        y = x.copy()\n",
    "        \n",
    "        for flip in range(num_flips):\n",
    "            i = np.random.randint(0, n)\n",
    "            y[i] = 1 - y[i]\n",
    "        \n",
    "        return y\n",
    "\n",
    "    n  = prob.get_dim()\n",
    "    x  = np.random.randint(0, 1+1, n) if init_sol is None else init_sol.copy()\n",
    "    fx = prob.objective_function(x)\n",
    "\n",
    "    nt = 0\n",
    "    while nt < num_tries:\n",
    "        y    = perturbation(x, num_flips)\n",
    "        z,fz = local_search(prob, y)\n",
    "        \n",
    "        if fz < fx:\n",
    "            x  = z\n",
    "            fx = fz\n",
    "            nt = 0\n",
    "        else:\n",
    "            nt += 1\n",
    "\n",
    "    return x,fx"
   ]
  },
  {
   "cell_type": "code",
   "execution_count": null,
   "id": "314a96d3-fc98-4fe0-933e-c83bc89a80ee",
   "metadata": {},
   "outputs": [],
   "source": []
  }
 ],
 "metadata": {
  "kernelspec": {
   "display_name": "Python 3 (ipykernel)",
   "language": "python",
   "name": "python3"
  },
  "language_info": {
   "codemirror_mode": {
    "name": "ipython",
    "version": 3
   },
   "file_extension": ".py",
   "mimetype": "text/x-python",
   "name": "python",
   "nbconvert_exporter": "python",
   "pygments_lexer": "ipython3",
   "version": "3.9.10"
  }
 },
 "nbformat": 4,
 "nbformat_minor": 5
}
